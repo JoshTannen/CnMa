{
 "cells": [
  {
   "cell_type": "markdown",
   "id": "4be4962b-8280-4f26-bc26-51b1407e9517",
   "metadata": {},
   "source": [
    "# CNMa\n",
    "###### Correlation N Matching"
   ]
  },
  {
   "cell_type": "code",
   "execution_count": null,
   "id": "4a43f38d-839f-4997-8007-8ccf7318eaad",
   "metadata": {},
   "outputs": [],
   "source": [
    "#import IP_address_filter\n",
    "#import SG_IP_matching\n",
    "#import xml_to_csv\n",
    "import VT_API\n",
    "import OS_API\n",
    "import pandas as pd\n",
    "import numpy as np\n",
    "from datetime import datetime\n",
    "import time\n",
    "import os\n",
    "from tqdm import tqdm\n",
    "import json\n",
    "import re"
   ]
  },
  {
   "cell_type": "markdown",
   "id": "2a044200-b7a1-4253-b01e-556f58db05eb",
   "metadata": {},
   "source": [
    "## Search in OpenSearch"
   ]
  },
  {
   "cell_type": "code",
   "execution_count": null,
   "id": "91c8a086-b705-45b7-b49f-1f8a53d6dd11",
   "metadata": {},
   "outputs": [],
   "source": [
    "#columns of interest\n",
    "COLS = ['peerIP',\n",
    "        'peerPort',\n",
    "        'hostIP',\n",
    "        'hostPort',\n",
    "        'commands',\n",
    "        'hashes',\n",
    "        'urls',\n",
    "        'loggedin',\n",
    "        'startTime',\n",
    "        'endTime',\n",
    "        'sort_num',\n",
    "        'peerCountry',\n",
    "        'hostCountry'\n",
    "       ]\n",
    "\n",
    "SIZE = 10000"
   ]
  },
  {
   "cell_type": "code",
   "execution_count": null,
   "id": "677123e0-30d0-4726-a309-dd0c847c30ad",
   "metadata": {},
   "outputs": [],
   "source": [
    "def yesnocheck(param):\n",
    "    while True:\n",
    "        # Note: Python 2.x users should use raw_input, the equivalent of 3.x's input\n",
    "        ans = input(f\"{param}\")\n",
    "        if ans not in ['y', 'n']:\n",
    "            continue            \n",
    "        else:\n",
    "            break\n",
    "    return ans\n",
    "\n",
    "#ans = yesnocheck(\"test\")\n",
    "#ans"
   ]
  },
  {
   "cell_type": "code",
   "execution_count": null,
   "id": "4de68549-50bb-4c7d-83d7-2c14339057fb",
   "metadata": {},
   "outputs": [],
   "source": [
    "#query inputting\n",
    "defaultquery = [{\"range\": {\n",
    "                \"startTime\": {\n",
    "                  \"gte\": \"now-6w\",\n",
    "                  \"lte\": \"now-4w\",\n",
    "                  \"format\": \"strict_date_optional_time\"\n",
    "                }}},\n",
    "                {\"exists\": {\"field\": \"hashes\"}},\n",
    "                {\"match\": {\"geoip.country_name\": \"Singapore\"}},\n",
    "                {\"query_string\": {\"default_field\": \"commands\", \"query\": \"wget\"}}\n",
    "               ]\n",
    "\n",
    "def craft_query(devmode):\n",
    "    queryls = []\n",
    "    #dev mode to return default eg.\n",
    "    while devmode:\n",
    "        return defaultquery\n",
    "    \n",
    "    #custom input\n",
    "    #Time range\n",
    "    ans = yesnocheck(\"Filter on Time Range? y/n\")\n",
    "    if ans == 'y':\n",
    "        start = str(input(\"Input start date:\"))\n",
    "        end = str(input(\"Input end date:\"))\n",
    "        rnge = {\"range\": {\"startTime\": {\"gte\": start, \"lte\": end, \"format\": \"strict_date_optional_time\"}}}\n",
    "        queryls.append(rnge)    \n",
    "\n",
    "    #Existing field\n",
    "    while True:\n",
    "        ans = yesnocheck(\"Filter if a field Exists? y/n\")\n",
    "        #print(ans)\n",
    "        if ans == 'y':\n",
    "            exist = input(\"Please enter field:\")\n",
    "            exst = {'exists': {'field': exist}}\n",
    "            queryls.append(exst)\n",
    "        else:\n",
    "            break\n",
    "    \n",
    "    #Exact match on field\n",
    "    while True:\n",
    "        ans = yesnocheck(\"Exact match on a field? y/n\")\n",
    "        #print(ans)\n",
    "        if ans == 'y':\n",
    "            field = input(\"Please enter field:\")\n",
    "            value = input(\"Enter value to match:\")\n",
    "            mtch = {\"match\": {field: value}}\n",
    "            queryls.append(mtch)\n",
    "        else:\n",
    "            break\n",
    "    \n",
    "    #General match query\n",
    "    while True:\n",
    "        ans = yesnocheck(\"General search query on a field? y/n\")\n",
    "        #print(ans)\n",
    "        if ans == 'y':\n",
    "            field = input(\"Please enter field:\")\n",
    "            query = input(\"Enter query:\")\n",
    "            qry = {\"query_string\": {\"default_field\": field, \"query\": query}}\n",
    "            queryls.append(qry)\n",
    "        else:\n",
    "            break\n",
    "    \n",
    "    return queryls\n",
    "    \n",
    "#queryls = craft_query(True)\n",
    "#queryls"
   ]
  },
  {
   "cell_type": "code",
   "execution_count": null,
   "id": "94fac97e-18d0-4993-8911-910d02d82462",
   "metadata": {},
   "outputs": [],
   "source": [
    "size = 10000\n",
    "search_after = [0]\n",
    "df_os = pd.DataFrame(columns=COLS)\n",
    "\n",
    "queryls = craft_query(devmode=True)\n",
    "print(queryls)\n",
    "\n",
    "total = 0\n",
    "\n",
    "while (size == SIZE):\n",
    "    print(f\"Continue from record: {search_after}\")\n",
    "    data = OS_API.opensearch_request(size,queryls,search_after)\n",
    "    df_os = pd.concat([df_os,data])\n",
    "    \n",
    "    #update params\n",
    "    size = len(data) #exit once it completes last batch\n",
    "    total+=size #update total records number\n",
    "    search_after = data['sort_num'][len(data)-1] #update sort number to continue after\n",
    "    #time.sleep(1)\n",
    "    \n",
    "print(f'Done. Total records: {total}')"
   ]
  },
  {
   "cell_type": "code",
   "execution_count": null,
   "id": "33e15f31-6292-401c-b64a-a69fc09667f1",
   "metadata": {
    "tags": []
   },
   "outputs": [],
   "source": [
    "df_os"
   ]
  },
  {
   "cell_type": "code",
   "execution_count": null,
   "id": "f0db83a4-7a33-4eec-9010-f6555fa4b11e",
   "metadata": {
    "tags": []
   },
   "outputs": [],
   "source": [
    "#export to csv\n",
    "'''\n",
    "df_os.to_csv(\"OS_pull\" + \"_\" + str(datetime.now().strftime('%Y_%m_%d_%H_%M_%S')) + \".csv\", index=False)\n",
    "'''"
   ]
  },
  {
   "cell_type": "markdown",
   "id": "7c3c7414-14af-4b30-8c0f-67d7b0616326",
   "metadata": {
    "jp-MarkdownHeadingCollapsed": true,
    "tags": []
   },
   "source": [
    "## Searching Hashes "
   ]
  },
  {
   "cell_type": "code",
   "execution_count": null,
   "id": "e4c305eb-4369-4061-82b3-dc8ce7268834",
   "metadata": {},
   "outputs": [],
   "source": [
    "hashls = []\n",
    "\n",
    "for i in df_os['hashes']:\n",
    "    for j in i:\n",
    "        if j not in hashls:\n",
    "            hashls.append(j)\n",
    "\n",
    "hashls"
   ]
  },
  {
   "cell_type": "code",
   "execution_count": null,
   "id": "4a809698-b38b-4d14-8fdd-ae3000e99431",
   "metadata": {
    "tags": []
   },
   "outputs": [],
   "source": [
    "resultls = []\n",
    "\n",
    "for hsh in tqdm(hashls):\n",
    "    response = VT_API.api_call_virustotal(hsh)\n",
    "    #print(response.text)\n",
    "    result = VT_API.read_response(response)\n",
    "    result['hash'] = hsh\n",
    "    resultls.append(result)\n",
    "    time.sleep(6)\n",
    "\n",
    "resultls\n",
    "    "
   ]
  },
  {
   "cell_type": "markdown",
   "id": "ea4cf3c1-eea9-4a89-ac77-9b5aae180a6c",
   "metadata": {
    "tags": []
   },
   "source": [
    "## Looking at Commands"
   ]
  },
  {
   "cell_type": "code",
   "execution_count": null,
   "id": "242e8b7c-8b66-4b72-9e2b-1bac54ced3a8",
   "metadata": {},
   "outputs": [],
   "source": [
    "commandls = []\n",
    "\n",
    "for i,row in df_os.iterrows():\n",
    "    for c in row['commands']:\n",
    "        try:\n",
    "            #regex to find url starting with http(s)\n",
    "            found = re.findall(\"https?:\\\\/\\\\/(?:www\\\\.)?[-a-zA-Z0-9@:%._\\\\+~#=]{1,256}\\\\.[a-zA-Z0-9()]{1,6}\\\\b(?:[-a-zA-Z0-9()@:%_\\\\+.~#?&\\\\/=]*)|^[-a-zA-Z0-9@:%._\\\\+~#=]{1,256}\\\\.[a-zA-Z0-9()]{1,6}\\\\b(?:[-a-zA-Z0-9()@:%_\\\\+.~#?&\\\\/=]*)$\", c)\n",
    "            #print(i, found)\n",
    "\n",
    "            for f in found:\n",
    "                if f not in commandls:\n",
    "                    commandls.append(f)\n",
    "\n",
    "        except AttributeError:\n",
    "            print(i, 'No matches found')\n",
    "            found = ''\n",
    "\n",
    "commandls"
   ]
  },
  {
   "cell_type": "code",
   "execution_count": null,
   "id": "b20fca7f-0857-4453-b92b-db64baa1c7d0",
   "metadata": {},
   "outputs": [],
   "source": [
    "c='http://123.34.123.341|ersfgfadsilu'\n",
    "found = re.findall(\"https?:\\\\/\\\\/(?:www\\\\.)?[-a-zA-Z0-9@:%._\\\\+~#=]{1,256}\\\\.[a-zA-Z0-9()]{1,6}\\\\b(?:[-a-zA-Z0-9()@:%_\\\\+.~#?&\\\\/=]*)|^[-a-zA-Z0-9@:%._\\\\+~#=]{1,256}\\\\.[a-zA-Z0-9()]{1,6}\\\\b(?:[-a-zA-Z0-9()@:%_\\\\+.~#?&\\\\/=]*)$\", c)\n",
    "found"
   ]
  },
  {
   "cell_type": "code",
   "execution_count": null,
   "id": "8029f78d-55b5-4bea-bb34-7ea1c8968f4b",
   "metadata": {},
   "outputs": [],
   "source": []
  }
 ],
 "metadata": {
  "kernelspec": {
   "display_name": "Python 3 (ipykernel)",
   "language": "python",
   "name": "python3"
  },
  "language_info": {
   "codemirror_mode": {
    "name": "ipython",
    "version": 3
   },
   "file_extension": ".py",
   "mimetype": "text/x-python",
   "name": "python",
   "nbconvert_exporter": "python",
   "pygments_lexer": "ipython3",
   "version": "3.9.11"
  }
 },
 "nbformat": 4,
 "nbformat_minor": 5
}
