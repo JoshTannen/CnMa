{
 "cells": [
  {
   "cell_type": "markdown",
   "id": "4be4962b-8280-4f26-bc26-51b1407e9517",
   "metadata": {},
   "source": [
    "# CNMa\n",
    "###### Correlation N Matching"
   ]
  },
  {
   "cell_type": "code",
   "execution_count": null,
   "id": "4a43f38d-839f-4997-8007-8ccf7318eaad",
   "metadata": {},
   "outputs": [],
   "source": [
    "#import IP_address_filter\n",
    "#import SG_IP_matching\n",
    "#import xml_to_csv\n",
    "import VT_API\n",
    "import OS_API\n",
    "import pandas as pd\n",
    "import numpy as np\n",
    "from datetime import datetime\n",
    "import time\n",
    "import os\n",
    "from tqdm import tqdm\n",
    "import json\n",
    "import re\n",
    "import csv"
   ]
  },
  {
   "cell_type": "markdown",
   "id": "2a044200-b7a1-4253-b01e-556f58db05eb",
   "metadata": {},
   "source": [
    "## Search in OpenSearch"
   ]
  },
  {
   "cell_type": "code",
   "execution_count": null,
   "id": "91c8a086-b705-45b7-b49f-1f8a53d6dd11",
   "metadata": {},
   "outputs": [],
   "source": [
    "#columns of interest\n",
    "COLS = ['peerIP',\n",
    "        'peerPort',\n",
    "        'hostIP',\n",
    "        'hostPort',\n",
    "        'commands',\n",
    "        'hashes',\n",
    "        'urls',\n",
    "        'loggedin',\n",
    "        'startTime',\n",
    "        'endTime',\n",
    "        'sort_num',\n",
    "        'peerCountry',\n",
    "        'hostCountry'\n",
    "       ]\n",
    "\n",
    "SIZE = 10000"
   ]
  },
  {
   "cell_type": "markdown",
   "id": "20993196-1e6e-4090-8c2e-1f29a06d3d62",
   "metadata": {},
   "source": [
    "### How to craft filter query\n",
    "Query inputting: list of dictionaries/jsons \\\n",
    "4 main filters:\n",
    "- range: usually to filter on time ranges. time can be exact (2022-01-05T23:59:30) or relative (now-1w).\n",
    "- exists: filter out records that have an existing field of choice\n",
    "- match: filter out records that exactly matches a value on the chosen field, must match Exactly.\n",
    "- query_string: filter out records that contains value(s) on the chosen field, can take in arguments such as AND and/or OR.\n",
    "\n",
    "All filters are optional and can be repeated multiple times if require multiple matches. "
   ]
  },
  {
   "cell_type": "code",
   "execution_count": null,
   "id": "4de68549-50bb-4c7d-83d7-2c14339057fb",
   "metadata": {},
   "outputs": [],
   "source": [
    "defaultquery = [{\"range\": {\n",
    "                \"startTime\": {\n",
    "                  \"gte\": \"now-8w\",\n",
    "                  \"lte\": \"now-6w\",\n",
    "                  \"format\": \"strict_date_optional_time\"\n",
    "                }}},\n",
    "                {\"exists\": {\"field\": \"hashes\"}},\n",
    "                {\"match\": {\"geoip.country_name\": \"Singapore\"}},\n",
    "                {\"query_string\": {\"default_field\": \"commands\", \"query\": \"wget\"}}\n",
    "               ]"
   ]
  },
  {
   "cell_type": "code",
   "execution_count": null,
   "id": "94fac97e-18d0-4993-8911-910d02d82462",
   "metadata": {},
   "outputs": [],
   "source": [
    "size = 10000 #batch size, max 10000\n",
    "search_after = [0]\n",
    "df_os = pd.DataFrame(columns=COLS)\n",
    "\n",
    "queryls = defaultquery\n",
    "print(queryls)\n",
    "\n",
    "total = 0\n",
    "\n",
    "while (size == SIZE):\n",
    "    print(f\"Continue from record: {search_after}\")\n",
    "    data = OS_API.opensearch_request(size,queryls,search_after)\n",
    "    df_os = pd.concat([df_os,data])\n",
    "    \n",
    "    #update params\n",
    "    size = len(data) #exit once it completes last batch\n",
    "    total+=size #update total records number\n",
    "    search_after = data['sort_num'][len(data)-1] #update sort number to continue after\n",
    "    #time.sleep(1)\n",
    "    \n",
    "print(f'Done. Total records: {total}')"
   ]
  },
  {
   "cell_type": "code",
   "execution_count": null,
   "id": "33e15f31-6292-401c-b64a-a69fc09667f1",
   "metadata": {
    "tags": []
   },
   "outputs": [],
   "source": [
    "df_os"
   ]
  },
  {
   "cell_type": "code",
   "execution_count": null,
   "id": "f0db83a4-7a33-4eec-9010-f6555fa4b11e",
   "metadata": {
    "tags": []
   },
   "outputs": [],
   "source": [
    "#export to csv\n",
    "'''\n",
    "df_os.to_csv(\"OS_pull\" + \"_\" + str(datetime.now().strftime('%Y_%m_%d_%H_%M_%S')) + \".csv\", index=False)\n",
    "'''"
   ]
  },
  {
   "cell_type": "markdown",
   "id": "7c3c7414-14af-4b30-8c0f-67d7b0616326",
   "metadata": {
    "tags": []
   },
   "source": [
    "## Searching Hashes "
   ]
  },
  {
   "cell_type": "code",
   "execution_count": null,
   "id": "e4c305eb-4369-4061-82b3-dc8ce7268834",
   "metadata": {},
   "outputs": [],
   "source": [
    "hashls = []\n",
    "\n",
    "for i in df_os['hashes']:\n",
    "    for j in i:\n",
    "        if j not in hashls:\n",
    "            hashls.append(j)\n",
    "\n",
    "hashls"
   ]
  },
  {
   "cell_type": "code",
   "execution_count": null,
   "id": "4a809698-b38b-4d14-8fdd-ae3000e99431",
   "metadata": {
    "tags": []
   },
   "outputs": [],
   "source": [
    "resultls = []\n",
    "\n",
    "for hsh in tqdm(hashls):\n",
    "    result = VT_API.virustotal_request(hsh)\n",
    "    resultls.append(result)\n",
    "    time.sleep(5)\n",
    "\n",
    "resultls\n",
    "    "
   ]
  },
  {
   "cell_type": "markdown",
   "id": "ea4cf3c1-eea9-4a89-ac77-9b5aae180a6c",
   "metadata": {
    "tags": []
   },
   "source": [
    "## Searching for urls within Commands\n",
    "### Note: jupyter hyperlinks these outputs, do take caution to prevent accidental clicking"
   ]
  },
  {
   "cell_type": "code",
   "execution_count": null,
   "id": "242e8b7c-8b66-4b72-9e2b-1bac54ced3a8",
   "metadata": {},
   "outputs": [],
   "source": [
    "commandls = []\n",
    "index = []\n",
    "\n",
    "for i,row in df_os.iterrows():\n",
    "    for c in row['commands']:\n",
    "        try:\n",
    "            #regex to find url starting with http(s)\n",
    "            found = re.findall(\"https?:\\\\/\\\\/(?:www\\\\.)?[-a-zA-Z0-9@:%._\\\\+~#=]{1,256}\\\\.[a-zA-Z0-9()]{1,6}\\\\b(?:[/]*)\", c)\n",
    "            #print(i, found)\n",
    "\n",
    "            for f in found:\n",
    "                if f not in commandls:\n",
    "                    commandls.append(f)\n",
    "\n",
    "        except AttributeError:\n",
    "            print(i, 'No matches found')\n",
    "            found = ''\n",
    "\n",
    "#commandls"
   ]
  },
  {
   "cell_type": "code",
   "execution_count": null,
   "id": "b20fca7f-0857-4453-b92b-db64baa1c7d0",
   "metadata": {
    "tags": []
   },
   "outputs": [],
   "source": [
    "#testing\n",
    "'''\n",
    "listed=['http://123.34.123.341|ersfgfadsilu  http://123.34.123.341|ersfgfadsilu', 'http://123.34.123.341', 'aiodusnfavic 123.34.123.341|ersfgfadsilu', 'http://123.34.123.341|ersfgfadsilu 123.34.123.341', 'vnoaids.abfna']\n",
    "for c in listed:\n",
    "    found = re.findall(\"https?:\\\\/\\\\/(?:www\\\\.)?[-a-zA-Z0-9@:%._\\\\+~#=]{1,256}\\\\.[a-zA-Z0-9()]{1,6}\\\\b(?:[-a-zA-Z0-9()@:%_\\\\+.~#?&\\\\/=]*)|[-a-zA-Z0-9@:%._\\\\+~#=]{1,256}\\\\.[a-zA-Z0-9()]{1,6}\\\\b(?:[-a-zA-Z0-9()@:%_\\\\+.~#?&\\\\/=]*)\", c)\n",
    "    print(found)\n",
    "'''"
   ]
  },
  {
   "cell_type": "code",
   "execution_count": null,
   "id": "8029f78d-55b5-4bea-bb34-7ea1c8968f4b",
   "metadata": {},
   "outputs": [],
   "source": [
    "commandresults = []\n",
    "\n",
    "for com in tqdm(commandls):\n",
    "    result = VT_API.virustotal_request(com)\n",
    "    commandresults.append(result)\n",
    "    time.sleep(5)\n",
    "    \n",
    "commandresults"
   ]
  },
  {
   "cell_type": "markdown",
   "id": "526022d0-13f9-47bf-b760-62947ba75fa9",
   "metadata": {},
   "source": [
    "## ***Only run this in a VM**\n",
    "### Curl/Wget to download infra links, to obtain file/hash"
   ]
  },
  {
   "cell_type": "code",
   "execution_count": null,
   "id": "0d096ed4-93fe-4c9a-b320-12acdb31ddc0",
   "metadata": {},
   "outputs": [],
   "source": [
    "dlls = []\n",
    "\n",
    "for i,row in df_os.iterrows():\n",
    "    for c in row['commands']:\n",
    "        try:\n",
    "            #regex to find url starting with http(s)\n",
    "            found = re.findall(\"https?:\\\\/\\\\/(?:www\\\\.)?[-a-zA-Z0-9@:%._\\\\+~#=]{1,256}\\\\.[a-zA-Z0-9()]{1,6}\\\\b(?:[-a-zA-Z0-9()@:%_\\\\+.~#?&\\\\/=]*)\", c)\n",
    "            #print(i, found)\n",
    "\n",
    "            for f in found:\n",
    "                if f not in dlls:\n",
    "                    dlls.append(f)\n",
    "\n",
    "        except AttributeError:\n",
    "            print(i, 'No matches found')\n",
    "            found = ''\n",
    "\n",
    "#dlls"
   ]
  },
  {
   "cell_type": "code",
   "execution_count": null,
   "id": "54eeaf98-bdee-4b7f-a150-1b9bd1a7ec89",
   "metadata": {
    "jupyter": {
     "source_hidden": true
    },
    "tags": []
   },
   "outputs": [],
   "source": [
    "filename = \"dllinks\" + \"_\" + str(datetime.now().strftime('%Y_%m_%d_%H_%M_%S') + \".csv\")\n",
    "\n",
    "with open(filename, 'w', newline='') as f:\n",
    "    wr = csv.writer(f, quoting=csv.QUOTE_ALL)\n",
    "    for x in dlls:\n",
    "        wr.writerow([x])\n"
   ]
  },
  {
   "cell_type": "markdown",
   "id": "64eaa541-7671-45d9-87d3-b6464d6777f5",
   "metadata": {
    "jp-MarkdownHeadingCollapsed": true,
    "tags": []
   },
   "source": [
    "## Work in Progress (Ignore below)\n",
    "Interactive component to customise input"
   ]
  },
  {
   "cell_type": "code",
   "execution_count": null,
   "id": "677123e0-30d0-4726-a309-dd0c847c30ad",
   "metadata": {},
   "outputs": [],
   "source": [
    "def yesnocheck(param):\n",
    "    '''\n",
    "    Forces input to be y or n, otherwise loops back.\n",
    "    Returns y or n.\n",
    "    '''\n",
    "    while True:\n",
    "        # Note: Python 2.x users should use raw_input, the equivalent of 3.x's input\n",
    "        ans = input(f\"{param}\")\n",
    "        if ans not in ['y', 'n']:\n",
    "            continue            \n",
    "        else:\n",
    "            break\n",
    "    return ans\n",
    "\n",
    "#ans = yesnocheck(\"test\")\n",
    "#ans"
   ]
  },
  {
   "cell_type": "code",
   "execution_count": null,
   "id": "6ee0860a-1e31-48f8-a088-094564ab31b1",
   "metadata": {},
   "outputs": [],
   "source": [
    "def craft_query(defmode):\n",
    "    '''\n",
    "    Interactive component to customize input\n",
    "    '''\n",
    "    #defmode to return default eg.\n",
    "    while defmode:\n",
    "        return defaultquery\n",
    "    \n",
    "    queryls = []\n",
    "    \n",
    "    #custom input\n",
    "    #Time range\n",
    "    ans = yesnocheck(\"Filter on Time Range? y/n\")\n",
    "    if ans == 'y':\n",
    "        start = str(input(\"Input start date:\"))\n",
    "        end = str(input(\"Input end date:\"))\n",
    "        rnge = {\"range\": {\"startTime\": {\"gte\": start, \"lte\": end, \"format\": \"strict_date_optional_time\"}}}\n",
    "        queryls.append(rnge)    \n",
    "\n",
    "    #Existing field\n",
    "    while True:\n",
    "        ans = yesnocheck(\"Filter if a field Exists? y/n\")\n",
    "        #print(ans)\n",
    "        if ans == 'y':\n",
    "            exist = input(\"Please enter field:\")\n",
    "            exst = {'exists': {'field': exist}}\n",
    "            queryls.append(exst)\n",
    "        else:\n",
    "            break\n",
    "    \n",
    "    #Exact match on field\n",
    "    while True:\n",
    "        ans = yesnocheck(\"Exact match on a field? y/n\")\n",
    "        #print(ans)\n",
    "        if ans == 'y':\n",
    "            field = input(\"Please enter field:\")\n",
    "            value = input(\"Enter value to match:\")\n",
    "            mtch = {\"match\": {field: value}}\n",
    "            queryls.append(mtch)\n",
    "        else:\n",
    "            break\n",
    "    \n",
    "    #General match query\n",
    "    while True:\n",
    "        ans = yesnocheck(\"General search query on a field? y/n\")\n",
    "        #print(ans)\n",
    "        if ans == 'y':\n",
    "            field = input(\"Please enter field:\")\n",
    "            query = input(\"Enter query:\")\n",
    "            qry = {\"query_string\": {\"default_field\": field, \"query\": query}}\n",
    "            queryls.append(qry)\n",
    "        else:\n",
    "            break\n",
    "    \n",
    "    return queryls\n",
    "    \n",
    "#queryls = craft_query(True)\n",
    "#queryls"
   ]
  }
 ],
 "metadata": {
  "kernelspec": {
   "display_name": "Python 3 (ipykernel)",
   "language": "python",
   "name": "python3"
  },
  "language_info": {
   "codemirror_mode": {
    "name": "ipython",
    "version": 3
   },
   "file_extension": ".py",
   "mimetype": "text/x-python",
   "name": "python",
   "nbconvert_exporter": "python",
   "pygments_lexer": "ipython3",
   "version": "3.9.11"
  }
 },
 "nbformat": 4,
 "nbformat_minor": 5
}
