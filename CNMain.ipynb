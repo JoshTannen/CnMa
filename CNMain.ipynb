{
 "cells": [
  {
   "cell_type": "markdown",
   "id": "4be4962b-8280-4f26-bc26-51b1407e9517",
   "metadata": {},
   "source": [
    "# CNMa\n",
    "###### Correlation N Matching"
   ]
  },
  {
   "cell_type": "code",
   "execution_count": null,
   "id": "4a43f38d-839f-4997-8007-8ccf7318eaad",
   "metadata": {},
   "outputs": [],
   "source": [
    "#import IP_address_filter\n",
    "#import SG_IP_matching\n",
    "#import xml_to_csv\n",
    "#import virusTotal_api\n",
    "import OS_API\n",
    "import pandas as pd\n",
    "from datetime import datetime\n",
    "import time\n",
    "import os\n",
    "from tqdm import tqdm\n",
    "import json"
   ]
  },
  {
   "cell_type": "markdown",
   "id": "2a044200-b7a1-4253-b01e-556f58db05eb",
   "metadata": {},
   "source": [
    "## Search in OpenSearch"
   ]
  },
  {
   "cell_type": "code",
   "execution_count": null,
   "id": "91c8a086-b705-45b7-b49f-1f8a53d6dd11",
   "metadata": {},
   "outputs": [],
   "source": [
    "#columns of interest\n",
    "COLS = ['Src IP',\n",
    "        'Src Port',\n",
    "        'Dst IP',\n",
    "        'Dst Port',\n",
    "        'commands',\n",
    "        'hashes',\n",
    "        'urls',\n",
    "        'loggedin',\n",
    "        'startTime',\n",
    "        'endTime',\n",
    "        'sort_num',\n",
    "        'Src Country',\n",
    "        'Dst Country'\n",
    "       ]\n",
    "\n",
    "SIZE = 10000"
   ]
  },
  {
   "cell_type": "code",
   "execution_count": null,
   "id": "677123e0-30d0-4726-a309-dd0c847c30ad",
   "metadata": {},
   "outputs": [],
   "source": [
    "def yesnocheck(param):\n",
    "    while True:\n",
    "        # Note: Python 2.x users should use raw_input, the equivalent of 3.x's input\n",
    "        ans = input(f\"{param}\")\n",
    "        if ans not in ['y', 'n']:\n",
    "            continue            \n",
    "        else:\n",
    "            break\n",
    "    return ans\n",
    "\n",
    "#ans = yesnocheck(\"test\")\n",
    "#ans"
   ]
  },
  {
   "cell_type": "code",
   "execution_count": null,
   "id": "4de68549-50bb-4c7d-83d7-2c14339057fb",
   "metadata": {},
   "outputs": [],
   "source": [
    "#query inputting\n",
    "\n",
    "defaultquery = [\n",
    "    {'range': {'startTime':{'gte': 'now-1w/w',\n",
    "                            'lte': 'now',\n",
    "                            'format': 'strict_date_optional_time'}}},\n",
    "                 {'exists': {'field': 'hashes'}},\n",
    "                 {'match': {'geoip.country_name': 'Singapore'}},\n",
    "                 {'query_string': {'default_field': 'commands', 'query': 'wget OR tftp'}}\n",
    "               ]\n",
    "\n",
    "\n",
    "def craft_query(devmode):\n",
    "    queryls = []\n",
    "    #dev mode to return default eg.\n",
    "    while devmode:\n",
    "        return defaultquery\n",
    "    \n",
    "    #custom input\n",
    "    #Time range\n",
    "    ans = yesnocheck(\"Filter on Time Range? y/n\")\n",
    "    if ans == 'y':\n",
    "        start = str(input(\"Input start date:\"))\n",
    "        end = str(input(\"Input end date:\"))\n",
    "        rnge = {\"range\": {\"startTime\": {\"gte\": start, \"lte\": end, \"format\": \"strict_date_optional_time\"}}}\n",
    "        queryls.append(rnge)    \n",
    "\n",
    "    #Existing field\n",
    "    while True:\n",
    "        ans = yesnocheck(\"Filter if a field Exists? y/n\")\n",
    "        #print(ans)\n",
    "        if ans == 'y':\n",
    "            exist = input(\"Please enter field:\")\n",
    "            exst = {'exists': {'field': exist}}\n",
    "            queryls.append(exst)\n",
    "        else:\n",
    "            break\n",
    "    \n",
    "    #Exact match on field\n",
    "    while True:\n",
    "        ans = yesnocheck(\"Exact match on a field? y/n\")\n",
    "        #print(ans)\n",
    "        if ans == 'y':\n",
    "            field = input(\"Please enter field:\")\n",
    "            value = input(\"Enter value to match:\")\n",
    "            mtch = {\"match\": {field: value}}\n",
    "            queryls.append(mtch)\n",
    "        else:\n",
    "            break\n",
    "    \n",
    "    #General match query\n",
    "    while True:\n",
    "        ans = yesnocheck(\"General search query on a field? y/n\")\n",
    "        #print(ans)\n",
    "        if ans == 'y':\n",
    "            field = input(\"Please enter field:\")\n",
    "            query = input(\"Enter query:\")\n",
    "            qry = {\"query_string\": {\"default_field\": field, \"query\": query}}\n",
    "            queryls.append(qry)\n",
    "        else:\n",
    "            break\n",
    "    \n",
    "    return queryls\n",
    "    \n",
    "#queryls = craft_query(True)\n",
    "#queryls"
   ]
  },
  {
   "cell_type": "code",
   "execution_count": null,
   "id": "94fac97e-18d0-4993-8911-910d02d82462",
   "metadata": {},
   "outputs": [],
   "source": [
    "size = 10000\n",
    "search_after = [0]\n",
    "df_os = pd.DataFrame(columns=COLS)\n",
    "\n",
    "queryls = craft_query(True)\n",
    "print(queryls)\n",
    "\n",
    "total = 0\n",
    "\n",
    "while (size == SIZE):\n",
    "    print(f\"Continue from record: {search_after}\")\n",
    "    data = OS_API.opensearch_request(size,queryls,search_after)\n",
    "    df_os = pd.concat([df_os,data])\n",
    "    \n",
    "    #update params\n",
    "    size = len(data) #exit once it completes last batch\n",
    "    total+=size #update total records number\n",
    "    search_after = data['sort_num'][len(data)-1] #update sort number to continue after\n",
    "    #time.sleep(1)\n",
    "    \n",
    "print(f'Done. Total records: {total}')"
   ]
  },
  {
   "cell_type": "code",
   "execution_count": null,
   "id": "33e15f31-6292-401c-b64a-a69fc09667f1",
   "metadata": {
    "tags": []
   },
   "outputs": [],
   "source": [
    "df_os"
   ]
  },
  {
   "cell_type": "code",
   "execution_count": null,
   "id": "5ee0862f-7b47-4a6e-b441-fc4622b537e2",
   "metadata": {
    "tags": []
   },
   "outputs": [],
   "source": [
    "df_os[df_os['Dst Country'].isna()].sort_values(by=['startTime'])"
   ]
  },
  {
   "cell_type": "code",
   "execution_count": null,
   "id": "e4c305eb-4369-4061-82b3-dc8ce7268834",
   "metadata": {},
   "outputs": [],
   "source": []
  },
  {
   "cell_type": "code",
   "execution_count": null,
   "id": "5622b446-a5ea-4e0c-86a0-95658f5d80e2",
   "metadata": {
    "tags": []
   },
   "outputs": [],
   "source": [
    "search_after = [0]\n",
    "data = OS_API.opensearch_request(queryls = queryls , search_after = search_after)\n",
    "data"
   ]
  },
  {
   "cell_type": "code",
   "execution_count": null,
   "id": "f0db83a4-7a33-4eec-9010-f6555fa4b11e",
   "metadata": {
    "tags": []
   },
   "outputs": [],
   "source": [
    "'''\n",
    "#export to csv\n",
    "df_os.to_csv(\"opensearch_matched\" + \"_\" + str(datetime.now().strftime('%Y_%m_%d_%H_%M_%S')) + \".csv\", index=False)\n",
    "'''"
   ]
  },
  {
   "cell_type": "code",
   "execution_count": null,
   "id": "398d2e7e-8d74-4e6d-a916-83a8d6f4fdf8",
   "metadata": {
    "jupyter": {
     "source_hidden": true
    },
    "tags": []
   },
   "outputs": [],
   "source": [
    "#Date inputs\n",
    "year = \"2022\"\n",
    "print('start month?')\n",
    "m1 = input()\n",
    "print('start day?')\n",
    "d1 = input()\n",
    "print('end month?')\n",
    "m2 = input()\n",
    "print('end day?')\n",
    "d2 = input()\n",
    "\n",
    "start_date = f\"{year}-{str(100+int(m1))[-2:]}-{str(100+int(d1))[-2:]}T00:00:00.000Z\"\n",
    "end_date = f\"{year}-{str(100+int(m2))[-2:]}-{str(100+int(d2))[-2:]}T00:00:00.000Z\"\n",
    "print(f\"Start date: {start_date}\\n End date: {end_date}\")"
   ]
  },
  {
   "cell_type": "code",
   "execution_count": null,
   "id": "a8b18f2f-70a3-4fd5-9c92-14b9d4fd4077",
   "metadata": {
    "tags": []
   },
   "outputs": [],
   "source": []
  },
  {
   "cell_type": "code",
   "execution_count": null,
   "id": "28d6f9b1-0c2c-4c02-b4a6-63c0d868dba0",
   "metadata": {},
   "outputs": [],
   "source": []
  },
  {
   "cell_type": "code",
   "execution_count": null,
   "id": "a2194048-e99b-480e-8aea-dbdf83af8574",
   "metadata": {},
   "outputs": [],
   "source": []
  }
 ],
 "metadata": {
  "kernelspec": {
   "display_name": "Python 3 (ipykernel)",
   "language": "python",
   "name": "python3"
  },
  "language_info": {
   "codemirror_mode": {
    "name": "ipython",
    "version": 3
   },
   "file_extension": ".py",
   "mimetype": "text/x-python",
   "name": "python",
   "nbconvert_exporter": "python",
   "pygments_lexer": "ipython3",
   "version": "3.9.7"
  }
 },
 "nbformat": 4,
 "nbformat_minor": 5
}
